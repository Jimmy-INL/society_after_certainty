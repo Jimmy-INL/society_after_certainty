{
 "cells": [
  {
   "cell_type": "markdown",
   "metadata": {},
   "source": [
    "# Classification"
   ]
  },
  {
   "cell_type": "markdown",
   "metadata": {},
   "source": [
    "We use classification algorithms when we are trying to predict class assignment based on one or more input variables. Classification differs from regression in that we are trying to identify class assignment, not output values. As in all things in life, there's gray area, but you generally think of classification as what you can do when you have training data that has labeled categories, and you are trying to predict the categories of unlabeled data.   "
   ]
  },
  {
   "cell_type": "markdown",
   "metadata": {},
   "source": [
    "## Cross Validation (CV)"
   ]
  },
  {
   "cell_type": "markdown",
   "metadata": {},
   "source": [
    "I think it is good to keep track of how you'll measure success from the very beginning of building a new model. We know we want our labels to be accurate. If we did our job perfectly, our model will assign accurate labels for every input data matrix we are given. But...we probably going to get some wrong, and our goal is to gauge how much wrong we are willing to tolerate.\n",
    "\n",
    "Often in statistics we look at the residuals (sometimes called disturgance - how off our predictions were from their actual values), and we come up with some single value that represent this error. As we'll see in regressions, the three heavyweights in this category are SSS (sum of squared error), MSE (mean squared error), RMSE (root mean squared error).  \n",
    "\n",
    "But in machine learning we have a practice we call **cross validation** that allows us to not just come up with a residuals metric for our trained data, but to simulate how well our model will perform on novel data, which is ultimately where we're heading with our model. Here are some of the key methods:\n",
    "\n",
    "* Holdout method\n",
    "* Kfolds\n",
    "* Monte Carlo subsampling "
   ]
  },
  {
   "cell_type": "markdown",
   "metadata": {},
   "source": [
    "### Holdout method"
   ]
  },
  {
   "cell_type": "markdown",
   "metadata": {},
   "source": [
    "### Kfolds"
   ]
  },
  {
   "cell_type": "markdown",
   "metadata": {},
   "source": [
    "### Monte Carlo "
   ]
  },
  {
   "cell_type": "code",
   "execution_count": null,
   "metadata": {
    "collapsed": true
   },
   "outputs": [],
   "source": []
  }
 ],
 "metadata": {
  "kernelspec": {
   "display_name": "Python 3",
   "language": "python",
   "name": "python3"
  },
  "language_info": {
   "codemirror_mode": {
    "name": "ipython",
    "version": 3
   },
   "file_extension": ".py",
   "mimetype": "text/x-python",
   "name": "python",
   "nbconvert_exporter": "python",
   "pygments_lexer": "ipython3",
   "version": "3.5.2"
  }
 },
 "nbformat": 4,
 "nbformat_minor": 2
}
